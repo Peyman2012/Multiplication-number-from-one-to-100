{
 "cells": [
  {
   "cell_type": "code",
   "execution_count": 10,
   "metadata": {},
   "outputs": [
    {
     "name": "stdout",
     "output_type": "stream",
     "text": [
      "\n",
      "\t 1 \n",
      "\t 2 \t 4 \n",
      "\t 3 \t 6 \t 9 \n",
      "\t 4 \t 8 \t 12 \t 16 \n",
      "\t 5 \t 10 \t 15 \t 20 \t 25 \n",
      "\t 6 \t 12 \t 18 \t 24 \t 30 \t 36 \n",
      "\t 7 \t 14 \t 21 \t 28 \t 35 \t 42 \t 49 \n",
      "\t 8 \t 16 \t 24 \t 32 \t 40 \t 48 \t 56 \t 64 \n",
      "\t 9 \t 18 \t 27 \t 36 \t 45 \t 54 \t 63 \t 72 \t 81 \n",
      "\t 10 \t 20 \t 30 \t 40 \t 50 \t 60 \t 70 \t 80 \t 90 \t 100 "
     ]
    }
   ],
   "source": [
    "for i in range(1,11):\n",
    "    print()\n",
    "    for j in range(1,i+1):\n",
    "        print('\\t',i*j,end=' ')"
   ]
  },
  {
   "cell_type": "code",
   "execution_count": null,
   "metadata": {},
   "outputs": [],
   "source": []
  }
 ],
 "metadata": {
  "kernelspec": {
   "display_name": "Python 3",
   "language": "python",
   "name": "python3"
  },
  "language_info": {
   "codemirror_mode": {
    "name": "ipython",
    "version": 3
   },
   "file_extension": ".py",
   "mimetype": "text/x-python",
   "name": "python",
   "nbconvert_exporter": "python",
   "pygments_lexer": "ipython3",
   "version": "3.6.13"
  }
 },
 "nbformat": 4,
 "nbformat_minor": 2
}
